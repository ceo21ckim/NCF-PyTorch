{
 "cells": [
  {
   "cell_type": "code",
   "execution_count": 19,
   "metadata": {},
   "outputs": [],
   "source": [
    "from tqdm import tqdm\n",
    "import os\n",
    "\n",
    "from sklearn.model_selection import train_test_split\n",
    "\n",
    "from models.metrics import sentiment_score\n",
    "from models.matrix_factorization import GMF, NeuMF, get_mf_loader, mf_train, mf_evaluate\n",
    "\n",
    "import pandas as pd \n",
    "import random \n",
    "import numpy as np \n",
    "from torch import nn, optim \n",
    "import torch \n",
    "\n",
    "from torch.utils.data import Dataset, DataLoader"
   ]
  },
  {
   "cell_type": "code",
   "execution_count": 2,
   "metadata": {},
   "outputs": [],
   "source": [
    "class args:\n",
    "    seed = 42 \n",
    "    batch_size = 512\n",
    "    SAVE_PATH = os.path.basename(os.getcwd())\n",
    "    device = 'cuda' if torch.cuda.is_available() else 'cpu'\n",
    "    lr = 1e-3"
   ]
  },
  {
   "cell_type": "code",
   "execution_count": 5,
   "metadata": {},
   "outputs": [],
   "source": [
    "DATA_PATH = 'data/sample.csv'\n",
    "d_set = pd.read_csv(DATA_PATH, encoding='utf-8-sig')\n",
    "\n",
    "d_set = d_set.astype({'user_id':'category', 'business_id':'category'})\n",
    "\n",
    "d_set.stars = d_set.stars.apply(sentiment_score)"
   ]
  },
  {
   "cell_type": "code",
   "execution_count": 6,
   "metadata": {},
   "outputs": [],
   "source": [
    "d_train, d_test = train_test_split(d_set, train_size=0.8, random_state=args.seed)\n",
    "d_valid, d_test = train_test_split(d_test, train_size=0.5, random_state=args.seed)"
   ]
  },
  {
   "cell_type": "code",
   "execution_count": 7,
   "metadata": {},
   "outputs": [],
   "source": [
    "u_cat = d_train.user_id.cat.categories\n",
    "b_cat = d_train.business_id.cat.categories"
   ]
  },
  {
   "cell_type": "code",
   "execution_count": 8,
   "metadata": {},
   "outputs": [],
   "source": [
    "d_valid.user_id = d_valid.user_id.cat.set_categories(u_cat)\n",
    "d_valid.business_id = d_valid.business_id.cat.set_categories(b_cat)\n",
    "\n",
    "d_test.user_id = d_test.user_id.cat.set_categories(u_cat)\n",
    "d_test.business_id = d_test.business_id.cat.set_categories(b_cat)"
   ]
  },
  {
   "cell_type": "code",
   "execution_count": 9,
   "metadata": {},
   "outputs": [],
   "source": [
    "d_train.user_id = d_train.user_id.cat.codes\n",
    "d_train.business_id = d_train.business_id.cat.codes \n",
    "\n",
    "d_valid.user_id = d_valid.user_id.cat.codes\n",
    "d_valid.business_id = d_valid.business_id.cat.codes \n",
    "\n",
    "d_test.user_id = d_test.user_id.cat.codes\n",
    "d_test.business_id = d_test.business_id.cat.codes "
   ]
  },
  {
   "cell_type": "code",
   "execution_count": 10,
   "metadata": {},
   "outputs": [],
   "source": [
    "d_train = d_train.dropna()\n",
    "d_valid = d_valid.dropna()\n",
    "d_test = d_test.dropna()\n",
    "\n",
    "d_train.reset_index(drop=True, inplace=True)\n",
    "d_valid.reset_index(drop=True, inplace=True)\n",
    "d_test.reset_index(drop=True, inplace=True)"
   ]
  },
  {
   "cell_type": "code",
   "execution_count": 16,
   "metadata": {},
   "outputs": [],
   "source": [
    "args.num_users = d_train.user_id.max() + 1\n",
    "args.num_items = d_train.business_id.max() + 1\n",
    "args.latent_dim = 64\n",
    "args.num_epochs = 10"
   ]
  },
  {
   "cell_type": "code",
   "execution_count": 17,
   "metadata": {},
   "outputs": [],
   "source": [
    "gmf_model = GMF(args).to(args.device)\n",
    "\n",
    "train_loader = get_mf_loader(args, d_train, num_workers=4)\n",
    "valid_loader = get_mf_loader(args, d_valid, num_workers=4)\n",
    "test_loader = get_mf_loader(args, d_test, num_workers=4)\n",
    "\n",
    "optimizer = optim.SGD(gmf_model.parameters(), lr=args.lr)\n",
    "criterion = nn.BCELoss()"
   ]
  },
  {
   "cell_type": "code",
   "execution_count": 18,
   "metadata": {},
   "outputs": [
    {
     "name": "stderr",
     "output_type": "stream",
     "text": [
      "Training...: 100%|██████████| 79/79 [00:00<00:00, 146.30it/s]\n",
      "Evaluating...: 100%|██████████| 10/10 [00:00<00:00, 71.29it/s]\n"
     ]
    },
    {
     "name": "stdout",
     "output_type": "stream",
     "text": [
      "Epoch: [1/10]\n",
      "Train Loss: 0.71452\n",
      "Valid Loss: 0.71602\n"
     ]
    },
    {
     "name": "stderr",
     "output_type": "stream",
     "text": [
      "Training...: 100%|██████████| 79/79 [00:00<00:00, 277.06it/s]\n",
      "Evaluating...: 100%|██████████| 10/10 [00:00<00:00, 77.52it/s]\n"
     ]
    },
    {
     "name": "stdout",
     "output_type": "stream",
     "text": [
      "Epoch: [2/10]\n",
      "Train Loss: 0.71026\n",
      "Valid Loss: 0.71197\n"
     ]
    },
    {
     "name": "stderr",
     "output_type": "stream",
     "text": [
      "Training...: 100%|██████████| 79/79 [00:00<00:00, 274.33it/s]\n",
      "Evaluating...: 100%|██████████| 10/10 [00:00<00:00, 70.63it/s]\n"
     ]
    },
    {
     "name": "stdout",
     "output_type": "stream",
     "text": [
      "Epoch: [3/10]\n",
      "Train Loss: 0.70615\n",
      "Valid Loss: 0.70807\n"
     ]
    },
    {
     "name": "stderr",
     "output_type": "stream",
     "text": [
      "Training...: 100%|██████████| 79/79 [00:00<00:00, 285.82it/s]\n",
      "Evaluating...: 100%|██████████| 10/10 [00:00<00:00, 64.72it/s]\n"
     ]
    },
    {
     "name": "stdout",
     "output_type": "stream",
     "text": [
      "Epoch: [4/10]\n",
      "Train Loss: 0.70219\n",
      "Valid Loss: 0.70431\n"
     ]
    },
    {
     "name": "stderr",
     "output_type": "stream",
     "text": [
      "Training...: 100%|██████████| 79/79 [00:00<00:00, 266.15it/s]\n",
      "Evaluating...: 100%|██████████| 10/10 [00:00<00:00, 70.22it/s]\n"
     ]
    },
    {
     "name": "stdout",
     "output_type": "stream",
     "text": [
      "Epoch: [5/10]\n",
      "Train Loss: 0.69837\n",
      "Valid Loss: 0.70068\n"
     ]
    },
    {
     "name": "stderr",
     "output_type": "stream",
     "text": [
      "Training...: 100%|██████████| 79/79 [00:00<00:00, 265.41it/s]\n",
      "Evaluating...: 100%|██████████| 10/10 [00:00<00:00, 70.83it/s]\n"
     ]
    },
    {
     "name": "stdout",
     "output_type": "stream",
     "text": [
      "Epoch: [6/10]\n",
      "Train Loss: 0.69469\n",
      "Valid Loss: 0.69720\n"
     ]
    },
    {
     "name": "stderr",
     "output_type": "stream",
     "text": [
      "Training...: 100%|██████████| 79/79 [00:00<00:00, 254.85it/s]\n",
      "Evaluating...: 100%|██████████| 10/10 [00:00<00:00, 74.40it/s]\n"
     ]
    },
    {
     "name": "stdout",
     "output_type": "stream",
     "text": [
      "Epoch: [7/10]\n",
      "Train Loss: 0.69114\n",
      "Valid Loss: 0.69384\n"
     ]
    },
    {
     "name": "stderr",
     "output_type": "stream",
     "text": [
      "Training...: 100%|██████████| 79/79 [00:00<00:00, 251.85it/s]\n",
      "Evaluating...: 100%|██████████| 10/10 [00:00<00:00, 74.89it/s]\n"
     ]
    },
    {
     "name": "stdout",
     "output_type": "stream",
     "text": [
      "Epoch: [8/10]\n",
      "Train Loss: 0.68772\n",
      "Valid Loss: 0.69060\n"
     ]
    },
    {
     "name": "stderr",
     "output_type": "stream",
     "text": [
      "Training...: 100%|██████████| 79/79 [00:00<00:00, 252.72it/s]\n",
      "Evaluating...: 100%|██████████| 10/10 [00:00<00:00, 72.67it/s]\n"
     ]
    },
    {
     "name": "stdout",
     "output_type": "stream",
     "text": [
      "Epoch: [9/10]\n",
      "Train Loss: 0.68443\n",
      "Valid Loss: 0.68749\n"
     ]
    },
    {
     "name": "stderr",
     "output_type": "stream",
     "text": [
      "Training...: 100%|██████████| 79/79 [00:00<00:00, 235.77it/s]\n",
      "Evaluating...: 100%|██████████| 10/10 [00:00<00:00, 70.86it/s]\n"
     ]
    },
    {
     "name": "stdout",
     "output_type": "stream",
     "text": [
      "Epoch: [10/10]\n",
      "Train Loss: 0.68126\n",
      "Valid Loss: 0.68449\n"
     ]
    }
   ],
   "source": [
    "losses = mf_train(args, gmf_model, train_loader, valid_loader, optimizer, criterion)"
   ]
  },
  {
   "cell_type": "code",
   "execution_count": 21,
   "metadata": {},
   "outputs": [],
   "source": [
    "ncf_model = NeuMF(args).to(args.device)\n",
    "\n",
    "optimizer = optim.SGD(ncf_model.parameters(), lr=args.lr)\n",
    "criterion = nn.BCELoss()"
   ]
  },
  {
   "cell_type": "code",
   "execution_count": 22,
   "metadata": {},
   "outputs": [
    {
     "name": "stderr",
     "output_type": "stream",
     "text": [
      "Training...: 100%|██████████| 79/79 [00:00<00:00, 146.93it/s]\n",
      "Evaluating...: 100%|██████████| 10/10 [00:00<00:00, 68.75it/s]\n"
     ]
    },
    {
     "name": "stdout",
     "output_type": "stream",
     "text": [
      "Epoch: [1/10]\n",
      "Train Loss: 0.71381\n",
      "Valid Loss: 0.71120\n"
     ]
    },
    {
     "name": "stderr",
     "output_type": "stream",
     "text": [
      "Training...: 100%|██████████| 79/79 [00:00<00:00, 207.82it/s]\n",
      "Evaluating...: 100%|██████████| 10/10 [00:00<00:00, 75.77it/s]\n"
     ]
    },
    {
     "name": "stdout",
     "output_type": "stream",
     "text": [
      "Epoch: [2/10]\n",
      "Train Loss: 0.70849\n",
      "Valid Loss: 0.70630\n"
     ]
    },
    {
     "name": "stderr",
     "output_type": "stream",
     "text": [
      "Training...: 100%|██████████| 79/79 [00:00<00:00, 216.78it/s]\n",
      "Evaluating...: 100%|██████████| 10/10 [00:00<00:00, 70.06it/s]\n"
     ]
    },
    {
     "name": "stdout",
     "output_type": "stream",
     "text": [
      "Epoch: [3/10]\n",
      "Train Loss: 0.70342\n",
      "Valid Loss: 0.70164\n"
     ]
    },
    {
     "name": "stderr",
     "output_type": "stream",
     "text": [
      "Training...: 100%|██████████| 79/79 [00:00<00:00, 206.73it/s]\n",
      "Evaluating...: 100%|██████████| 10/10 [00:00<00:00, 66.14it/s]\n"
     ]
    },
    {
     "name": "stdout",
     "output_type": "stream",
     "text": [
      "Epoch: [4/10]\n",
      "Train Loss: 0.69858\n",
      "Valid Loss: 0.69720\n"
     ]
    },
    {
     "name": "stderr",
     "output_type": "stream",
     "text": [
      "Training...: 100%|██████████| 79/79 [00:00<00:00, 212.12it/s]\n",
      "Evaluating...: 100%|██████████| 10/10 [00:00<00:00, 73.33it/s]\n"
     ]
    },
    {
     "name": "stdout",
     "output_type": "stream",
     "text": [
      "Epoch: [5/10]\n",
      "Train Loss: 0.69396\n",
      "Valid Loss: 0.69297\n"
     ]
    },
    {
     "name": "stderr",
     "output_type": "stream",
     "text": [
      "Training...: 100%|██████████| 79/79 [00:00<00:00, 199.55it/s]\n",
      "Evaluating...: 100%|██████████| 10/10 [00:00<00:00, 70.45it/s]\n"
     ]
    },
    {
     "name": "stdout",
     "output_type": "stream",
     "text": [
      "Epoch: [6/10]\n",
      "Train Loss: 0.68956\n",
      "Valid Loss: 0.68894\n"
     ]
    },
    {
     "name": "stderr",
     "output_type": "stream",
     "text": [
      "Training...: 100%|██████████| 79/79 [00:00<00:00, 195.23it/s]\n",
      "Evaluating...: 100%|██████████| 10/10 [00:00<00:00, 75.85it/s]\n"
     ]
    },
    {
     "name": "stdout",
     "output_type": "stream",
     "text": [
      "Epoch: [7/10]\n",
      "Train Loss: 0.68535\n",
      "Valid Loss: 0.68509\n"
     ]
    },
    {
     "name": "stderr",
     "output_type": "stream",
     "text": [
      "Training...: 100%|██████████| 79/79 [00:00<00:00, 226.43it/s]\n",
      "Evaluating...: 100%|██████████| 10/10 [00:00<00:00, 69.33it/s]\n"
     ]
    },
    {
     "name": "stdout",
     "output_type": "stream",
     "text": [
      "Epoch: [8/10]\n",
      "Train Loss: 0.68134\n",
      "Valid Loss: 0.68142\n"
     ]
    },
    {
     "name": "stderr",
     "output_type": "stream",
     "text": [
      "Training...: 100%|██████████| 79/79 [00:00<00:00, 220.32it/s]\n",
      "Evaluating...: 100%|██████████| 10/10 [00:00<00:00, 73.02it/s]\n"
     ]
    },
    {
     "name": "stdout",
     "output_type": "stream",
     "text": [
      "Epoch: [9/10]\n",
      "Train Loss: 0.67750\n",
      "Valid Loss: 0.67793\n"
     ]
    },
    {
     "name": "stderr",
     "output_type": "stream",
     "text": [
      "Training...: 100%|██████████| 79/79 [00:00<00:00, 218.84it/s]\n",
      "Evaluating...: 100%|██████████| 10/10 [00:00<00:00, 71.15it/s]\n"
     ]
    },
    {
     "name": "stdout",
     "output_type": "stream",
     "text": [
      "Epoch: [10/10]\n",
      "Train Loss: 0.67384\n",
      "Valid Loss: 0.67460\n"
     ]
    }
   ],
   "source": [
    "losses = mf_train(args, ncf_model, train_loader, valid_loader, optimizer, criterion)"
   ]
  },
  {
   "cell_type": "code",
   "execution_count": null,
   "metadata": {},
   "outputs": [],
   "source": []
  }
 ],
 "metadata": {
  "kernelspec": {
   "display_name": "base",
   "language": "python",
   "name": "python3"
  },
  "language_info": {
   "codemirror_mode": {
    "name": "ipython",
    "version": 3
   },
   "file_extension": ".py",
   "mimetype": "text/x-python",
   "name": "python",
   "nbconvert_exporter": "python",
   "pygments_lexer": "ipython3",
   "version": "3.8.15"
  },
  "orig_nbformat": 4,
  "vscode": {
   "interpreter": {
    "hash": "d4d1e4263499bec80672ea0156c357c1ee493ec2b1c70f0acce89fc37c4a6abe"
   }
  }
 },
 "nbformat": 4,
 "nbformat_minor": 2
}
