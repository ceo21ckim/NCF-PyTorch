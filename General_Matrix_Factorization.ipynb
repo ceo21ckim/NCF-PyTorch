{
 "cells": [
  {
   "attachments": {},
   "cell_type": "markdown",
   "metadata": {},
   "source": [
    "## Import Packages"
   ]
  },
  {
   "cell_type": "code",
   "execution_count": 74,
   "metadata": {},
   "outputs": [],
   "source": [
    "from tqdm import tqdm\n",
    "import os\n",
    "\n",
    "from sklearn.model_selection import train_test_split\n",
    "\n",
    "import pandas as pd \n",
    "import random \n",
    "import numpy as np \n",
    "from torch import nn, optim \n",
    "import torch \n",
    "\n",
    "from torch.utils.data import Dataset, DataLoader"
   ]
  },
  {
   "attachments": {},
   "cell_type": "markdown",
   "metadata": {},
   "source": [
    "## Build Class"
   ]
  },
  {
   "cell_type": "code",
   "execution_count": 75,
   "metadata": {},
   "outputs": [],
   "source": [
    "class GMF(nn.Module):\n",
    "    def __init__(self, args):\n",
    "        super(GMF, self).__init__()\n",
    "\n",
    "        self.num_users = args.num_users \n",
    "        self.num_items = args.num_items \n",
    "        self.latent_dim = args.latent_dim \n",
    "\n",
    "        self.user_embedding = nn.Embedding(self.num_users, self.latent_dim)\n",
    "        self.item_embedding = nn.Embedding(self.num_items, self.latent_dim)\n",
    "\n",
    "        self.fc_layer = nn.Linear(args.latent_dim, 1)\n",
    "        self.sigmoid = nn.Sigmoid()\n",
    "        \n",
    "    def forward(self, uid, iid):\n",
    "        user_emb = self.user_embedding(uid)\n",
    "        item_emb = self.item_embedding(iid)\n",
    "\n",
    "        multiply_layer = torch.mul(user_emb, item_emb)\n",
    "        predict = self.fc_layer(multiply_layer)\n",
    "        output = self.sigmoid(predict)\n",
    "        return output \n",
    "\n",
    "    def _init_weight(self):\n",
    "        for module in self.modules():\n",
    "            if isinstance(module, nn.Embedding):\n",
    "                nn.init.normal_(module.weight, std=0.01)\n",
    "            \n",
    "            if isinstance(module, nn.Linear) and module.bias is not None:\n",
    "                module.bias.zero_()"
   ]
  },
  {
   "cell_type": "code",
   "execution_count": 76,
   "metadata": {},
   "outputs": [],
   "source": [
    "def set_seed(args):\n",
    "    random.seed(args.seed)\n",
    "    np.random.seed(args.seed)\n",
    "    torch.manual_seed(args.seed)\n",
    "    torch.cuda.manual_seed_all(args.seed)"
   ]
  },
  {
   "cell_type": "code",
   "execution_count": 77,
   "metadata": {},
   "outputs": [],
   "source": [
    "class MFDataset(Dataset):\n",
    "    def __init__(self, dataframe):\n",
    "        self.user_id = dataframe.user_id\n",
    "        self.item_id = dataframe.business_id\n",
    "        self.labels = dataframe.stars \n",
    "\n",
    "    def __len__(self):\n",
    "        return len(self.user_id)\n",
    "\n",
    "    def __getitem__(self, idx):\n",
    "        uid = self.user_id[idx]\n",
    "        iid = self.item_id[idx]\n",
    "        label = self.labels[idx]\n",
    "\n",
    "        return (\n",
    "            torch.tensor(uid, dtype=torch.long), \n",
    "            torch.tensor(iid, dtype=torch.long), \n",
    "            torch.tensor(label, dtype=torch.float)\n",
    "        )\n"
   ]
  },
  {
   "cell_type": "code",
   "execution_count": 78,
   "metadata": {},
   "outputs": [],
   "source": [
    "def sentiment_score(x):\n",
    "    if x >= 3.5 : return 1\n",
    "    elif x < 3.5 : return 0\n",
    "    \n",
    "def train(args, model, train_loader, test_loader, optimizer, criterion):\n",
    "    train_losses = []\n",
    "    valid_losses = []\n",
    "    best_loss = float('inf')\n",
    "\n",
    "    set_seed(args)\n",
    "    model = model.to(args.device)\n",
    "    model.train()\n",
    "    for epoch in tqdm(range(1, args.num_epochs + 1)):\n",
    "        train_loss, valid_loss = 0.0, 0.0\n",
    "\n",
    "        for batch in train_loader:\n",
    "            batch = tuple(b.to(args.device) for b in batch)\n",
    "\n",
    "            inputs = {'uid':    batch[0], \n",
    "                      'iid':    batch[1]}\n",
    "            gold_y = batch[2]\n",
    "\n",
    "            pred_y = model(**inputs).squeeze()\n",
    "            loss = criterion(pred_y, gold_y)\n",
    "\n",
    "            optimizer.zero_grad()\n",
    "            loss.backward()\n",
    "            optimizer.step()\n",
    "\n",
    "            train_loss += loss.item()\n",
    "\n",
    "        train_loss /= len(train_loader)\n",
    "\n",
    "        train_losses.append(train_loss)\n",
    "\n",
    "        valid_loss = evaluate(args, model, test_loader, criterion)\n",
    "        valid_losses.append(valid_loss)\n",
    "\n",
    "        if epoch % 10 == 0 :\n",
    "            print(f'Epoch: [{epoch}/{args.num_epochs}]')\n",
    "            print(f'Train Loss: {train_loss:.5f}')\n",
    "            print(f'Valid Loss: {valid_loss:.5f}')\n",
    "\n",
    "        if best_loss > valid_loss:\n",
    "            best_loss = valid_loss\n",
    "            if not os.path.exists(args.SAVE_PATH):\n",
    "                os.makedirs(args.SAVE_PATH)\n",
    "            torch.save(model.state_dict(), os.path.join(args.SAVE_PATH, f'{model._get_name()}_parameters.pt'))\n",
    "    \n",
    "    return {\n",
    "        'train_loss': train_losses, \n",
    "        'valid_loss': valid_losses\n",
    "    }\n",
    "\n",
    "\n",
    "def evaluate(args, model, test_loader, criterion):\n",
    "    losses = 0\n",
    "    model.eval()\n",
    "    with torch.no_grad():\n",
    "        for batch in test_loader:\n",
    "            batch = tuple(b.to(args.device) for b in batch)\n",
    "\n",
    "            inputs = {'uid':    batch[0], \n",
    "                      'iid':    batch[1]}\n",
    "            gold_y = batch[2]\n",
    "\n",
    "            pred_y = model(**inputs).squeeze()\n",
    "                \n",
    "            loss = criterion(pred_y, gold_y)\n",
    "        \n",
    "            losses += loss.item()\n",
    "        losses /= len(test_loader)\n",
    "    return losses\n"
   ]
  },
  {
   "cell_type": "code",
   "execution_count": 79,
   "metadata": {},
   "outputs": [],
   "source": [
    "class args:\n",
    "    seed = 42 \n",
    "    batch_size = 512\n",
    "    SAVE_PATH = os.path.basename(os.getcwd())\n",
    "    device = 'cuda' if torch.cuda.is_available() else 'cpu'\n",
    "    lr = 1e-3"
   ]
  },
  {
   "cell_type": "code",
   "execution_count": 80,
   "metadata": {},
   "outputs": [],
   "source": [
    "DATA_PATH = 'data/sample.csv'\n",
    "d_set = pd.read_csv(DATA_PATH, encoding='utf-8-sig')\n",
    "\n",
    "d_set = d_set.astype({'user_id':'category', 'business_id':'category'})\n",
    "\n",
    "d_set.stars = d_set.stars.apply(sentiment_score)"
   ]
  },
  {
   "cell_type": "code",
   "execution_count": 81,
   "metadata": {},
   "outputs": [],
   "source": [
    "d_train, d_test = train_test_split(d_set, train_size=0.8, random_state=args.seed)\n",
    "d_valid, d_test = train_test_split(d_test, train_size=0.5, random_state=args.seed)"
   ]
  },
  {
   "cell_type": "code",
   "execution_count": 82,
   "metadata": {},
   "outputs": [
    {
     "data": {
      "text/plain": [
       "((40000, 4), (5000, 4), (5000, 4))"
      ]
     },
     "execution_count": 82,
     "metadata": {},
     "output_type": "execute_result"
    }
   ],
   "source": [
    "d_train.shape, d_valid.shape, d_test.shape"
   ]
  },
  {
   "cell_type": "code",
   "execution_count": 83,
   "metadata": {},
   "outputs": [],
   "source": [
    "u_cat = d_train.user_id.cat.categories\n",
    "b_cat = d_train.business_id.cat.categories"
   ]
  },
  {
   "cell_type": "code",
   "execution_count": 84,
   "metadata": {},
   "outputs": [],
   "source": [
    "d_valid.user_id = d_valid.user_id.cat.set_categories(u_cat)\n",
    "d_valid.business_id = d_valid.business_id.cat.set_categories(b_cat)\n",
    "\n",
    "d_test.user_id = d_test.user_id.cat.set_categories(u_cat)\n",
    "d_test.business_id = d_test.business_id.cat.set_categories(b_cat)"
   ]
  },
  {
   "cell_type": "code",
   "execution_count": 85,
   "metadata": {},
   "outputs": [],
   "source": [
    "d_train.user_id = d_train.user_id.cat.codes\n",
    "d_train.business_id = d_train.business_id.cat.codes \n",
    "\n",
    "d_valid.user_id = d_valid.user_id.cat.codes\n",
    "d_valid.business_id = d_valid.business_id.cat.codes \n",
    "\n",
    "d_test.user_id = d_test.user_id.cat.codes\n",
    "d_test.business_id = d_test.business_id.cat.codes "
   ]
  },
  {
   "cell_type": "code",
   "execution_count": 86,
   "metadata": {},
   "outputs": [],
   "source": [
    "d_train = d_train.dropna()\n",
    "d_valid = d_valid.dropna()\n",
    "d_test = d_test.dropna()\n",
    "\n",
    "d_train.reset_index(drop=True, inplace=True)\n",
    "d_valid.reset_index(drop=True, inplace=True)\n",
    "d_test.reset_index(drop=True, inplace=True)"
   ]
  },
  {
   "cell_type": "code",
   "execution_count": 87,
   "metadata": {},
   "outputs": [],
   "source": [
    "args.num_users = d_train.user_id.max() + 1\n",
    "args.num_items = d_train.business_id.max() + 1\n",
    "args.latent_dim = 64\n",
    "args.num_epochs = 10"
   ]
  },
  {
   "cell_type": "code",
   "execution_count": 88,
   "metadata": {},
   "outputs": [],
   "source": [
    "model = GMF(args)\n",
    "\n",
    "train_set = MFDataset(d_train)\n",
    "valid_set = MFDataset(d_valid)\n",
    "test_set = MFDataset(d_test)\n",
    "\n",
    "train_loader = DataLoader(train_set, batch_size=args.batch_size, num_workers=4)\n",
    "valid_loader = DataLoader(valid_set, batch_size=args.batch_size, num_workers=4)\n",
    "test_loader = DataLoader(test_set, batch_size=args.batch_size, num_workers=4)\n",
    "\n",
    "optimizer = optim.SGD(model.parameters(), lr=args.lr)\n",
    "criterion = nn.BCELoss()"
   ]
  },
  {
   "cell_type": "code",
   "execution_count": 89,
   "metadata": {},
   "outputs": [
    {
     "name": "stderr",
     "output_type": "stream",
     "text": [
      "100%|██████████| 10/10 [00:05<00:00,  1.93it/s]"
     ]
    },
    {
     "name": "stdout",
     "output_type": "stream",
     "text": [
      "Epoch: [10/10]\n",
      "Train Loss: 0.70307\n",
      "Valid Loss: 0.70005\n"
     ]
    },
    {
     "name": "stderr",
     "output_type": "stream",
     "text": [
      "\n"
     ]
    }
   ],
   "source": [
    "losses = train(args, model, train_loader, valid_loader, optimizer, criterion)"
   ]
  },
  {
   "cell_type": "code",
   "execution_count": 90,
   "metadata": {},
   "outputs": [],
   "source": [
    "test_loss = evaluate(args, model, test_loader, criterion)"
   ]
  },
  {
   "cell_type": "code",
   "execution_count": 91,
   "metadata": {},
   "outputs": [
    {
     "data": {
      "image/png": "[encoded data removed]",
      "text/plain": [
       "<Figure size 640x480 with 1 Axes>"
      ]
     },
     "metadata": {},
     "output_type": "display_data"
    }
   ],
   "source": [
    "import matplotlib.pyplot as plt \n",
    "\n",
    "train_losses = losses['train_loss']\n",
    "valid_losses = losses['valid_loss']\n",
    "\n",
    "length = range(train_losses.__len__())\n",
    "\n",
    "plt.plot(length, train_losses, '-')\n",
    "plt.plot(length, valid_losses, '-')\n",
    "plt.show()"
   ]
  },
  {
   "cell_type": "code",
   "execution_count": null,
   "metadata": {},
   "outputs": [],
   "source": []
  }
 ],
 "metadata": {
  "kernelspec": {
   "display_name": "base",
   "language": "python",
   "name": "python3"
  },
  "language_info": {
   "codemirror_mode": {
    "name": "ipython",
    "version": 3
   },
   "file_extension": ".py",
   "mimetype": "text/x-python",
   "name": "python",
   "nbconvert_exporter": "python",
   "pygments_lexer": "ipython3",
   "version": "3.8.15"
  },
  "orig_nbformat": 4,
  "vscode": {
   "interpreter": {
    "hash": "d4d1e4263499bec80672ea0156c357c1ee493ec2b1c70f0acce89fc37c4a6abe"
   }
  }
 },
 "nbformat": 4,
 "nbformat_minor": 2
}
