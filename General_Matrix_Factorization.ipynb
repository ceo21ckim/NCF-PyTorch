{
 "cells": [
  {
   "attachments": {},
   "cell_type": "markdown",
   "metadata": {},
   "source": [
    "## Import Packages"
   ]
  },
  {
   "cell_type": "code",
   "execution_count": 1,
   "metadata": {},
   "outputs": [
    {
     "name": "stderr",
     "output_type": "stream",
     "text": [
      "c:\\Users\\user\\AppData\\Local\\Programs\\Python\\Python38\\lib\\site-packages\\tqdm\\auto.py:22: TqdmWarning: IProgress not found. Please update jupyter and ipywidgets. See https://ipywidgets.readthedocs.io/en/stable/user_install.html\n",
      "  from .autonotebook import tqdm as notebook_tqdm\n"
     ]
    }
   ],
   "source": [
    "from tqdm import tqdm\n",
    "import os\n",
    "\n",
    "from sklearn.model_selection import train_test_split\n",
    "\n",
    "import pandas as pd \n",
    "import random \n",
    "import numpy as np \n",
    "from torch import nn, optim \n",
    "import torch \n",
    "\n",
    "from torch.utils.data import Dataset, DataLoader"
   ]
  },
  {
   "attachments": {},
   "cell_type": "markdown",
   "metadata": {},
   "source": [
    "## Build Class"
   ]
  },
  {
   "cell_type": "code",
   "execution_count": 2,
   "metadata": {},
   "outputs": [],
   "source": [
    "class GMF(nn.Module):\n",
    "    def __init__(self, args):\n",
    "        super(GMF, self).__init__()\n",
    "\n",
    "        self.num_users = args.num_users \n",
    "        self.num_items = args.num_items \n",
    "        self.latent_dim = args.latent_dim \n",
    "\n",
    "        self.user_embedding = nn.Embedding(self.num_users, self.latent_dim)\n",
    "        self.item_embedding = nn.Embedding(self.num_items, self.latent_dim)\n",
    "\n",
    "        self.fc_layer = nn.Linear(args.latent_dim, 1)\n",
    "        self.sigmoid = nn.Sigmoid()\n",
    "        \n",
    "    def forward(self, uid, iid):\n",
    "        user_emb = self.user_embedding(uid)\n",
    "        item_emb = self.item_embedding(iid)\n",
    "\n",
    "        multiply_layer = torch.mul(user_emb, item_emb)\n",
    "        predict = self.fc_layer(multiply_layer)\n",
    "        output = self.sigmoid(predict)\n",
    "        return output \n",
    "\n",
    "    def _init_weight(self):\n",
    "        for module in self.modules():\n",
    "            if isinstance(module, nn.Embedding):\n",
    "                nn.init.normal_(module.weight, std=0.01)\n",
    "            \n",
    "            if isinstance(module, nn.Linear) and module.bias is not None:\n",
    "                module.bias.zero_()"
   ]
  },
  {
   "cell_type": "code",
   "execution_count": 3,
   "metadata": {},
   "outputs": [],
   "source": [
    "def set_seed(args):\n",
    "    random.seed(args.seed)\n",
    "    np.random.seed(args.seed)\n",
    "    torch.manual_seed(args.seed)\n",
    "    torch.cuda.manual_seed_all(args.seed)"
   ]
  },
  {
   "cell_type": "code",
   "execution_count": 4,
   "metadata": {},
   "outputs": [],
   "source": [
    "class MFDataset(Dataset):\n",
    "    def __init__(self, dataframe):\n",
    "        self.user_id = dataframe.user_id\n",
    "        self.item_id = dataframe.business_id\n",
    "        self.labels = dataframe.stars \n",
    "\n",
    "    def __len__(self):\n",
    "        return len(self.user_id)\n",
    "\n",
    "    def __getitem__(self, idx):\n",
    "        uid = self.user_id[idx]\n",
    "        iid = self.item_id[idx]\n",
    "        label = self.labels[idx]\n",
    "\n",
    "        return (\n",
    "            torch.tensor(uid, dtype=torch.long), \n",
    "            torch.tensor(iid, dtype=torch.long), \n",
    "            torch.tensor(label, dtype=torch.float)\n",
    "        )\n"
   ]
  },
  {
   "cell_type": "code",
   "execution_count": 5,
   "metadata": {},
   "outputs": [],
   "source": [
    "def sentiment_score(x):\n",
    "    if x >= 3.5 : return 1\n",
    "    elif x < 3.5 : return 0\n",
    "    \n",
    "def train(args, model, train_loader, test_loader, optimizer, criterion):\n",
    "    train_losses = []\n",
    "    valid_losses = []\n",
    "    best_loss = float('inf')\n",
    "\n",
    "    set_seed(args)\n",
    "    model = model.to(args.device)\n",
    "    model.train()\n",
    "    for epoch in range(1, args.num_epochs + 1):\n",
    "        train_loss, valid_loss = 0.0, 0.0\n",
    "\n",
    "        for batch in tqdm(train_loader, desc='Training...'):\n",
    "            batch = tuple(b.to(args.device) for b in batch)\n",
    "\n",
    "            inputs = {'uid':    batch[0], \n",
    "                      'iid':    batch[1]}\n",
    "            gold_y = batch[2]\n",
    "\n",
    "            pred_y = model(**inputs).squeeze()\n",
    "            loss = criterion(pred_y, gold_y)\n",
    "\n",
    "            optimizer.zero_grad()\n",
    "            loss.backward()\n",
    "            optimizer.step()\n",
    "\n",
    "            train_loss += loss.item()\n",
    "\n",
    "        train_loss /= len(train_loader)\n",
    "\n",
    "        train_losses.append(train_loss)\n",
    "\n",
    "        valid_loss = evaluate(args, model, test_loader, criterion)\n",
    "        valid_losses.append(valid_loss)\n",
    "\n",
    "\n",
    "        print(f'Epoch: [{epoch}/{args.num_epochs}]')\n",
    "        print(f'Train Loss: {train_loss:.5f}')\n",
    "        print(f'Valid Loss: {valid_loss:.5f}')\n",
    "\n",
    "        if best_loss > valid_loss:\n",
    "            best_loss = valid_loss\n",
    "            if not os.path.exists(args.SAVE_PATH):\n",
    "                os.makedirs(args.SAVE_PATH)\n",
    "            torch.save(model.state_dict(), os.path.join(args.SAVE_PATH, f'{model._get_name()}_parameters.pt'))\n",
    "    \n",
    "    return {\n",
    "        'train_loss': train_losses, \n",
    "        'valid_loss': valid_losses\n",
    "    }\n",
    "\n",
    "\n",
    "def evaluate(args, model, test_loader, criterion):\n",
    "    losses = 0\n",
    "    model.eval()\n",
    "    with torch.no_grad():\n",
    "        for batch in tqdm(test_loader, desc='Evaluating...'):\n",
    "            batch = tuple(b.to(args.device) for b in batch)\n",
    "\n",
    "            inputs = {'uid':    batch[0], \n",
    "                      'iid':    batch[1]}\n",
    "            gold_y = batch[2]\n",
    "\n",
    "            pred_y = model(**inputs).squeeze()\n",
    "                \n",
    "            loss = criterion(pred_y, gold_y)\n",
    "        \n",
    "            losses += loss.item()\n",
    "        losses /= len(test_loader)\n",
    "    return losses\n"
   ]
  },
  {
   "cell_type": "code",
   "execution_count": 6,
   "metadata": {},
   "outputs": [],
   "source": [
    "class args:\n",
    "    seed = 42 \n",
    "    batch_size = 512\n",
    "    SAVE_PATH = os.path.basename(os.getcwd())\n",
    "    device = 'cuda' if torch.cuda.is_available() else 'cpu'\n",
    "    lr = 1e-3"
   ]
  },
  {
   "cell_type": "code",
   "execution_count": 7,
   "metadata": {},
   "outputs": [],
   "source": [
    "DATA_PATH = '../dataset/sample.csv'\n",
    "d_set = pd.read_csv(DATA_PATH, encoding='utf-8-sig')\n",
    "\n",
    "d_set = d_set.astype({'user_id':'category', 'business_id':'category'})\n",
    "\n",
    "d_set.stars = d_set.stars.apply(sentiment_score)"
   ]
  },
  {
   "cell_type": "code",
   "execution_count": 8,
   "metadata": {},
   "outputs": [],
   "source": [
    "d_train, d_test = train_test_split(d_set, train_size=0.8, random_state=args.seed)\n",
    "d_valid, d_test = train_test_split(d_test, train_size=0.5, random_state=args.seed)"
   ]
  },
  {
   "cell_type": "code",
   "execution_count": 9,
   "metadata": {},
   "outputs": [
    {
     "data": {
      "text/plain": [
       "((80000, 4), (10000, 4), (10000, 4))"
      ]
     },
     "execution_count": 9,
     "metadata": {},
     "output_type": "execute_result"
    }
   ],
   "source": [
    "d_train.shape, d_valid.shape, d_test.shape"
   ]
  },
  {
   "cell_type": "code",
   "execution_count": 10,
   "metadata": {},
   "outputs": [],
   "source": [
    "u_cat = d_train.user_id.cat.categories\n",
    "b_cat = d_train.business_id.cat.categories "
   ]
  },
  {
   "cell_type": "code",
   "execution_count": 11,
   "metadata": {},
   "outputs": [],
   "source": [
    "d_valid.user_id = d_valid.user_id.cat.set_categories(u_cat)\n",
    "d_valid.business_id = d_valid.business_id.cat.set_categories(b_cat)\n",
    "\n",
    "d_test.user_id = d_test.user_id.cat.set_categories(u_cat)\n",
    "d_test.business_id = d_test.business_id.cat.set_categories(b_cat)"
   ]
  },
  {
   "cell_type": "code",
   "execution_count": 12,
   "metadata": {},
   "outputs": [],
   "source": [
    "d_train.user_id = d_train.user_id.cat.codes\n",
    "d_train.business_id = d_train.business_id.cat.codes \n",
    "\n",
    "d_valid.user_id = d_valid.user_id.cat.codes\n",
    "d_valid.business_id = d_valid.business_id.cat.codes \n",
    "\n",
    "d_test.user_id = d_test.user_id.cat.codes\n",
    "d_test.business_id = d_test.business_id.cat.codes "
   ]
  },
  {
   "cell_type": "code",
   "execution_count": 13,
   "metadata": {},
   "outputs": [],
   "source": [
    "d_train = d_train.dropna()\n",
    "d_valid = d_valid.dropna()\n",
    "d_test = d_test.dropna()\n",
    "\n",
    "d_train.reset_index(drop=True, inplace=True)\n",
    "d_valid.reset_index(drop=True, inplace=True)\n",
    "d_test.reset_index(drop=True, inplace=True)"
   ]
  },
  {
   "cell_type": "code",
   "execution_count": 14,
   "metadata": {},
   "outputs": [],
   "source": [
    "args.num_users = d_train.user_id.nunique()\n",
    "args.num_items = d_train.business_id.nunique()\n",
    "args.latent_dim = 64\n",
    "args.num_epochs = 10"
   ]
  },
  {
   "cell_type": "code",
   "execution_count": 15,
   "metadata": {},
   "outputs": [],
   "source": [
    "model = GMF(args)\n",
    "\n",
    "train_set = MFDataset(d_train)\n",
    "valid_set = MFDataset(d_valid)\n",
    "test_set = MFDataset(d_test)\n",
    "\n",
    "train_loader = DataLoader(train_set, batch_size=args.batch_size, num_workers=4, pin_memory=True)\n",
    "valid_loader = DataLoader(valid_set, batch_size=args.batch_size, num_workers=4, pin_memory=True)\n",
    "test_loader = DataLoader(test_set, batch_size=args.batch_size, num_workers=4, pin_memory=True)\n",
    "\n",
    "optimizer = optim.SGD(model.parameters(), lr=args.lr)\n",
    "criterion = nn.BCELoss()"
   ]
  },
  {
   "cell_type": "code",
   "execution_count": 16,
   "metadata": {},
   "outputs": [
    {
     "name": "stderr",
     "output_type": "stream",
     "text": [
      "Training...:   0%|          | 0/157 [00:00<?, ?it/s]"
     ]
    }
   ],
   "source": [
    "train_loss, valid_loss = train(args, model, train_loader, valid_loader, optimizer, criterion) "
   ]
  },
  {
   "cell_type": "code",
   "execution_count": null,
   "metadata": {},
   "outputs": [],
   "source": [
    "test_loss = evaluate(args, model, test_loader, criterion)"
   ]
  },
  {
   "cell_type": "code",
   "execution_count": null,
   "metadata": {},
   "outputs": [],
   "source": []
  }
 ],
 "metadata": {
  "kernelspec": {
   "display_name": "Python 3",
   "language": "python",
   "name": "python3"
  },
  "language_info": {
   "codemirror_mode": {
    "name": "ipython",
    "version": 3
   },
   "file_extension": ".py",
   "mimetype": "text/x-python",
   "name": "python",
   "nbconvert_exporter": "python",
   "pygments_lexer": "ipython3",
   "version": "3.8.0"
  },
  "orig_nbformat": 4,
  "vscode": {
   "interpreter": {
    "hash": "6a926afa313b26ae1264fdcf81c726a97e69f6ba2ba780f6aa901948710f8d6e"
   }
  }
 },
 "nbformat": 4,
 "nbformat_minor": 2
}
